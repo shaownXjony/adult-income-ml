{
 "cells": [
  {
   "cell_type": "markdown",
   "id": "8c40f7d5-6adc-426d-af20-7d5319943f57",
   "metadata": {},
   "source": [
    "# Adult Census Income Dataset (predicting whether income >50K) #"
   ]
  },
  {
   "cell_type": "code",
   "execution_count": 1,
   "id": "c14d5a89-f322-4008-b657-cb14786183c2",
   "metadata": {},
   "outputs": [],
   "source": [
    "import pandas as pd\n",
    "import numpy as np\n",
    "import matplotlib.pyplot as plt\n",
    "import seaborn as sns\n",
    "\n",
    "from sklearn.model_selection import train_test_split, StratifiedKFold, GridSearchCV\n",
    "from sklearn.preprocessing import LabelEncoder, StandardScaler\n",
    "from sklearn.metrics import accuracy_score, confusion_matrix, classification_report\n",
    "from sklearn.linear_model import LogisticRegression\n",
    "from sklearn.tree import DecisionTreeClassifier\n",
    "from sklearn.ensemble import RandomForestClassifier"
   ]
  },
  {
   "cell_type": "markdown",
   "id": "2e457e59-73b7-410d-86fe-f5e686ed2328",
   "metadata": {},
   "source": [
    "### Step 1: Data Collection (Using Kaggle dataset) ###"
   ]
  },
  {
   "cell_type": "code",
   "execution_count": 2,
   "id": "00564a0d-22f1-47d3-9b90-b881955fbe5a",
   "metadata": {},
   "outputs": [
    {
     "name": "stdout",
     "output_type": "stream",
     "text": [
      "   age workclass  fnlwgt     education  education.num marital.status  \\\n",
      "0   90         ?   77053       HS-grad              9        Widowed   \n",
      "1   82   Private  132870       HS-grad              9        Widowed   \n",
      "2   66         ?  186061  Some-college             10        Widowed   \n",
      "3   54   Private  140359       7th-8th              4       Divorced   \n",
      "4   41   Private  264663  Some-college             10      Separated   \n",
      "\n",
      "          occupation   relationship   race     sex  capital.gain  \\\n",
      "0                  ?  Not-in-family  White  Female             0   \n",
      "1    Exec-managerial  Not-in-family  White  Female             0   \n",
      "2                  ?      Unmarried  Black  Female             0   \n",
      "3  Machine-op-inspct      Unmarried  White  Female             0   \n",
      "4     Prof-specialty      Own-child  White  Female             0   \n",
      "\n",
      "   capital.loss  hours.per.week native.country income  \n",
      "0          4356              40  United-States  <=50K  \n",
      "1          4356              18  United-States  <=50K  \n",
      "2          4356              40  United-States  <=50K  \n",
      "3          3900              40  United-States  <=50K  \n",
      "4          3900              40  United-States  <=50K  \n",
      "<class 'pandas.core.frame.DataFrame'>\n",
      "RangeIndex: 32561 entries, 0 to 32560\n",
      "Data columns (total 15 columns):\n",
      " #   Column          Non-Null Count  Dtype \n",
      "---  ------          --------------  ----- \n",
      " 0   age             32561 non-null  int64 \n",
      " 1   workclass       32561 non-null  object\n",
      " 2   fnlwgt          32561 non-null  int64 \n",
      " 3   education       32561 non-null  object\n",
      " 4   education.num   32561 non-null  int64 \n",
      " 5   marital.status  32561 non-null  object\n",
      " 6   occupation      32561 non-null  object\n",
      " 7   relationship    32561 non-null  object\n",
      " 8   race            32561 non-null  object\n",
      " 9   sex             32561 non-null  object\n",
      " 10  capital.gain    32561 non-null  int64 \n",
      " 11  capital.loss    32561 non-null  int64 \n",
      " 12  hours.per.week  32561 non-null  int64 \n",
      " 13  native.country  32561 non-null  object\n",
      " 14  income          32561 non-null  object\n",
      "dtypes: int64(6), object(9)\n",
      "memory usage: 3.7+ MB\n",
      "None\n"
     ]
    }
   ],
   "source": [
    "df = pd.read_csv(r\"C:\\Users\\ShaownJony\\Downloads\\Practice project ( Adult Census )\\adult.csv\")\n",
    "print(df.head())\n",
    "print(df.info())"
   ]
  },
  {
   "cell_type": "markdown",
   "id": "e1919ac1-1410-4d06-8b4b-145c46381d6e",
   "metadata": {},
   "source": [
    "### Step 2: Data Preprocessing ###"
   ]
  },
  {
   "cell_type": "code",
   "execution_count": 3,
   "id": "325704cb-dfbd-4b76-b5d3-743bb8860382",
   "metadata": {},
   "outputs": [
    {
     "name": "stdout",
     "output_type": "stream",
     "text": [
      "age               0\n",
      "workclass         0\n",
      "fnlwgt            0\n",
      "education         0\n",
      "education.num     0\n",
      "marital.status    0\n",
      "occupation        0\n",
      "relationship      0\n",
      "race              0\n",
      "sex               0\n",
      "capital.gain      0\n",
      "capital.loss      0\n",
      "hours.per.week    0\n",
      "native.country    0\n",
      "income            0\n",
      "dtype: int64\n"
     ]
    }
   ],
   "source": [
    "print(df.isnull().sum())\n",
    "df = df.drop_duplicates()\n",
    "df = df.replace(\"?\", np.nan)\n",
    "df = df.dropna()"
   ]
  },
  {
   "cell_type": "code",
   "execution_count": 4,
   "id": "300f2222-7fb1-4696-9299-92ef35260207",
   "metadata": {},
   "outputs": [],
   "source": [
    "categorical_cols = df.select_dtypes(include=['object']).columns\n",
    "for col in categorical_cols:\n",
    "    le = LabelEncoder()\n",
    "    df[col] = le.fit_transform(df[col])"
   ]
  },
  {
   "cell_type": "code",
   "execution_count": 5,
   "id": "8c2b7c08-9691-472a-987e-2c5ce617ca04",
   "metadata": {},
   "outputs": [],
   "source": [
    "scaler = StandardScaler()\n",
    "num_cols = df.select_dtypes(include=['int64', 'float64']).columns.drop(\"income\")\n",
    "df[num_cols] = scaler.fit_transform(df[num_cols])"
   ]
  },
  {
   "cell_type": "code",
   "execution_count": 6,
   "id": "6c1677c7-75cb-41e6-a01f-3138bf06bfe4",
   "metadata": {},
   "outputs": [
    {
     "data": {
      "text/html": [
       "<div>\n",
       "<style scoped>\n",
       "    .dataframe tbody tr th:only-of-type {\n",
       "        vertical-align: middle;\n",
       "    }\n",
       "\n",
       "    .dataframe tbody tr th {\n",
       "        vertical-align: top;\n",
       "    }\n",
       "\n",
       "    .dataframe thead th {\n",
       "        text-align: right;\n",
       "    }\n",
       "</style>\n",
       "<table border=\"1\" class=\"dataframe\">\n",
       "  <thead>\n",
       "    <tr style=\"text-align: right;\">\n",
       "      <th></th>\n",
       "      <th>age</th>\n",
       "      <th>workclass</th>\n",
       "      <th>fnlwgt</th>\n",
       "      <th>education</th>\n",
       "      <th>education.num</th>\n",
       "      <th>marital.status</th>\n",
       "      <th>occupation</th>\n",
       "      <th>relationship</th>\n",
       "      <th>race</th>\n",
       "      <th>sex</th>\n",
       "      <th>capital.gain</th>\n",
       "      <th>capital.loss</th>\n",
       "      <th>hours.per.week</th>\n",
       "      <th>native.country</th>\n",
       "      <th>income</th>\n",
       "    </tr>\n",
       "  </thead>\n",
       "  <tbody>\n",
       "    <tr>\n",
       "      <th>1</th>\n",
       "      <td>3.317157</td>\n",
       "      <td>-0.20898</td>\n",
       "      <td>-0.538773</td>\n",
       "      <td>0.174959</td>\n",
       "      <td>-0.440434</td>\n",
       "      <td>2.283147</td>\n",
       "      <td>-0.734570</td>\n",
       "      <td>-0.261297</td>\n",
       "      <td>0.385108</td>\n",
       "      <td>-1.443574</td>\n",
       "      <td>-0.147502</td>\n",
       "      <td>10.551814</td>\n",
       "      <td>-1.914647</td>\n",
       "      <td>0.264666</td>\n",
       "      <td>0</td>\n",
       "    </tr>\n",
       "    <tr>\n",
       "      <th>3</th>\n",
       "      <td>1.184832</td>\n",
       "      <td>-0.20898</td>\n",
       "      <td>-0.467892</td>\n",
       "      <td>-1.399020</td>\n",
       "      <td>-2.402221</td>\n",
       "      <td>-1.722039</td>\n",
       "      <td>0.009847</td>\n",
       "      <td>1.611826</td>\n",
       "      <td>0.385108</td>\n",
       "      <td>-1.443574</td>\n",
       "      <td>-0.147502</td>\n",
       "      <td>9.424325</td>\n",
       "      <td>-0.078031</td>\n",
       "      <td>0.264666</td>\n",
       "      <td>0</td>\n",
       "    </tr>\n",
       "    <tr>\n",
       "      <th>4</th>\n",
       "      <td>0.194824</td>\n",
       "      <td>-0.20898</td>\n",
       "      <td>0.708595</td>\n",
       "      <td>1.224279</td>\n",
       "      <td>-0.048076</td>\n",
       "      <td>1.615616</td>\n",
       "      <td>0.754264</td>\n",
       "      <td>0.987452</td>\n",
       "      <td>0.385108</td>\n",
       "      <td>-1.443574</td>\n",
       "      <td>-0.147502</td>\n",
       "      <td>9.424325</td>\n",
       "      <td>-0.078031</td>\n",
       "      <td>0.264666</td>\n",
       "      <td>0</td>\n",
       "    </tr>\n",
       "    <tr>\n",
       "      <th>5</th>\n",
       "      <td>-0.338257</td>\n",
       "      <td>-0.20898</td>\n",
       "      <td>0.256197</td>\n",
       "      <td>0.174959</td>\n",
       "      <td>-0.440434</td>\n",
       "      <td>-1.722039</td>\n",
       "      <td>0.257986</td>\n",
       "      <td>1.611826</td>\n",
       "      <td>0.385108</td>\n",
       "      <td>-1.443574</td>\n",
       "      <td>-0.147502</td>\n",
       "      <td>9.102892</td>\n",
       "      <td>0.339381</td>\n",
       "      <td>0.264666</td>\n",
       "      <td>0</td>\n",
       "    </tr>\n",
       "    <tr>\n",
       "      <th>6</th>\n",
       "      <td>-0.033639</td>\n",
       "      <td>-0.20898</td>\n",
       "      <td>-0.370956</td>\n",
       "      <td>-2.710670</td>\n",
       "      <td>-1.617506</td>\n",
       "      <td>1.615616</td>\n",
       "      <td>-1.478987</td>\n",
       "      <td>1.611826</td>\n",
       "      <td>0.385108</td>\n",
       "      <td>0.692725</td>\n",
       "      <td>-0.147502</td>\n",
       "      <td>9.102892</td>\n",
       "      <td>-0.078031</td>\n",
       "      <td>0.264666</td>\n",
       "      <td>0</td>\n",
       "    </tr>\n",
       "  </tbody>\n",
       "</table>\n",
       "</div>"
      ],
      "text/plain": [
       "        age  workclass    fnlwgt  education  education.num  marital.status  \\\n",
       "1  3.317157   -0.20898 -0.538773   0.174959      -0.440434        2.283147   \n",
       "3  1.184832   -0.20898 -0.467892  -1.399020      -2.402221       -1.722039   \n",
       "4  0.194824   -0.20898  0.708595   1.224279      -0.048076        1.615616   \n",
       "5 -0.338257   -0.20898  0.256197   0.174959      -0.440434       -1.722039   \n",
       "6 -0.033639   -0.20898 -0.370956  -2.710670      -1.617506        1.615616   \n",
       "\n",
       "   occupation  relationship      race       sex  capital.gain  capital.loss  \\\n",
       "1   -0.734570     -0.261297  0.385108 -1.443574     -0.147502     10.551814   \n",
       "3    0.009847      1.611826  0.385108 -1.443574     -0.147502      9.424325   \n",
       "4    0.754264      0.987452  0.385108 -1.443574     -0.147502      9.424325   \n",
       "5    0.257986      1.611826  0.385108 -1.443574     -0.147502      9.102892   \n",
       "6   -1.478987      1.611826  0.385108  0.692725     -0.147502      9.102892   \n",
       "\n",
       "   hours.per.week  native.country  income  \n",
       "1       -1.914647        0.264666       0  \n",
       "3       -0.078031        0.264666       0  \n",
       "4       -0.078031        0.264666       0  \n",
       "5        0.339381        0.264666       0  \n",
       "6       -0.078031        0.264666       0  "
      ]
     },
     "execution_count": 6,
     "metadata": {},
     "output_type": "execute_result"
    }
   ],
   "source": [
    "df.head()"
   ]
  },
  {
   "cell_type": "markdown",
   "id": "0154169e-816f-4a9f-8f91-a59929723d6e",
   "metadata": {},
   "source": [
    "### Step 3: Step 3: Data Splitting ###"
   ]
  },
  {
   "cell_type": "code",
   "execution_count": 7,
   "id": "2e1c23ab-af63-4816-a7bc-2a39e2657d95",
   "metadata": {},
   "outputs": [],
   "source": [
    "X = df.drop(\"income\", axis=1)\n",
    "y = df[\"income\"]\n",
    "\n",
    "X_train, X_test, y_train, y_test = train_test_split(\n",
    "    X, y, test_size=0.2, stratify=y, random_state=42\n",
    ")"
   ]
  },
  {
   "cell_type": "markdown",
   "id": "57d9c578-0568-4a57-8a2a-5049d0213c71",
   "metadata": {},
   "source": [
    "### Step 4: Visualization ###"
   ]
  },
  {
   "cell_type": "code",
   "execution_count": 8,
   "id": "37de37f2-31fe-4843-972e-76a259079e09",
   "metadata": {},
   "outputs": [
    {
     "data": {
      "image/png": "[encoded data removed]",
      "text/plain": [
       "<Figure size 640x480 with 1 Axes>"
      ]
     },
     "metadata": {},
     "output_type": "display_data"
    }
   ],
   "source": [
    "sns.countplot(x=y)\n",
    "plt.title(\"Income Class Distribution\")\n",
    "plt.show()"
   ]
  },
  {
   "cell_type": "code",
   "execution_count": 9,
   "id": "08a22632-15fa-4b3f-a11b-660294d2870e",
   "metadata": {},
   "outputs": [
    {
     "data": {
      "image/png": "[encoded data removed]",
      "text/plain": [
       "<Figure size 1000x600 with 2 Axes>"
      ]
     },
     "metadata": {},
     "output_type": "display_data"
    }
   ],
   "source": [
    "plt.figure(figsize=(10,6))\n",
    "sns.heatmap(df.corr(), cmap=\"coolwarm\", center=0)\n",
    "plt.title(\"Feature Correlation\")\n",
    "plt.show()"
   ]
  },
  {
   "cell_type": "code",
   "execution_count": 10,
   "id": "75984c12-1fa0-448b-8ec3-8882b1afccfd",
   "metadata": {},
   "outputs": [
    {
     "data": {
      "image/png": "[encoded data removed]",
      "text/plain": [
       "<Figure size 640x480 with 1 Axes>"
      ]
     },
     "metadata": {},
     "output_type": "display_data"
    }
   ],
   "source": [
    "sns.boxplot(x=\"income\", y=\"age\", data=df)\n",
    "plt.title(\"Age vs Income\")\n",
    "plt.show()"
   ]
  },
  {
   "cell_type": "markdown",
   "id": "f0a9c25a-7409-4543-b644-d6c1a0950ea9",
   "metadata": {},
   "source": [
    "### Step 5: Model Building ###"
   ]
  },
  {
   "cell_type": "markdown",
   "id": "e11c4ae4-d2ec-4977-8696-ed693fe901d6",
   "metadata": {},
   "source": [
    "### Logistic Regression"
   ]
  },
  {
   "cell_type": "code",
   "execution_count": 11,
   "id": "21b354a6-1689-4962-b9ca-e968fa55ffc3",
   "metadata": {},
   "outputs": [
    {
     "name": "stdout",
     "output_type": "stream",
     "text": [
      "Logistic Regression Accuracy: 0.8263105507631056\n",
      "[[4270  257]\n",
      " [ 790  711]]\n"
     ]
    }
   ],
   "source": [
    "lr = LogisticRegression(max_iter=500)\n",
    "lr.fit(X_train, y_train)\n",
    "y_pred_lr = lr.predict(X_test)\n",
    "\n",
    "print(\"Logistic Regression Accuracy:\", accuracy_score(y_test, y_pred_lr))\n",
    "print(confusion_matrix(y_test, y_pred_lr))"
   ]
  },
  {
   "cell_type": "raw",
   "id": "b08ebde8-3451-49a6-83ff-ddeffe54337d",
   "metadata": {},
   "source": [
    "Accuracy does not reach the target."
   ]
  },
  {
   "cell_type": "markdown",
   "id": "e67f0a7d-9ff5-40c3-afba-100f78eafc25",
   "metadata": {},
   "source": [
    "### Decision Tree"
   ]
  },
  {
   "cell_type": "code",
   "execution_count": 12,
   "id": "f75d0173-bd2a-44f9-a14d-fcd05981fac7",
   "metadata": {},
   "outputs": [
    {
     "name": "stdout",
     "output_type": "stream",
     "text": [
      "Decision Tree Accuracy: 0.8100530856005309\n",
      "[[3932  595]\n",
      " [ 550  951]]\n"
     ]
    }
   ],
   "source": [
    "dt = DecisionTreeClassifier(random_state=42)\n",
    "dt.fit(X_train, y_train)\n",
    "y_pred_dt = dt.predict(X_test)\n",
    "print(\"Decision Tree Accuracy:\", accuracy_score(y_test, y_pred_dt))\n",
    "print(confusion_matrix(y_test, y_pred_dt))"
   ]
  },
  {
   "cell_type": "raw",
   "id": "84d0ddd1-0f39-40e3-a0eb-8461115b239e",
   "metadata": {},
   "source": [
    "Accuracy does not reach the target. So need Hyperparameter Tuning"
   ]
  },
  {
   "cell_type": "code",
   "execution_count": 13,
   "id": "2904c835-36b5-4768-9444-233dbdef9bb0",
   "metadata": {},
   "outputs": [
    {
     "name": "stdout",
     "output_type": "stream",
     "text": [
      "Best Parameters: {'criterion': 'entropy', 'max_depth': 10, 'min_samples_leaf': 5, 'min_samples_split': 20}\n",
      "Best CV Accuracy: 0.8467919643647244\n",
      "Tuned Decision Tree Test Accuracy: 0.8556735235567352\n",
      "[[4194  333]\n",
      " [ 537  964]]\n"
     ]
    }
   ],
   "source": [
    "from sklearn.model_selection import GridSearchCV\n",
    "from sklearn.tree import DecisionTreeClassifier\n",
    "\n",
    "param_grid = {\n",
    "    \"max_depth\": [5, 10, 15, 20, None], \n",
    "    \"min_samples_split\": [2, 5, 10, 20],\n",
    "    \"min_samples_leaf\": [1, 2, 5, 10],      \n",
    "    \"criterion\": [\"gini\", \"entropy\"]        \n",
    "}\n",
    "dt = DecisionTreeClassifier(random_state=42)\n",
    "grid = GridSearchCV(dt, param_grid, cv=5, scoring=\"accuracy\", n_jobs=-1)\n",
    "grid.fit(X_train, y_train)\n",
    "print(\"Best Parameters:\", grid.best_params_)\n",
    "print(\"Best CV Accuracy:\", grid.best_score_)\n",
    "\n",
    "best_dt = grid.best_estimator_\n",
    "y_pred_dt = best_dt.predict(X_test)\n",
    "\n",
    "print(\"Tuned Decision Tree Test Accuracy:\", accuracy_score(y_test, y_pred_dt))\n",
    "print(confusion_matrix(y_test, y_pred_dt))"
   ]
  },
  {
   "cell_type": "raw",
   "id": "b5726a54-f4bc-40cd-a2d4-f3ed072f2cf2",
   "metadata": {},
   "source": [
    "meet the target accuracy (Decision Tree)"
   ]
  },
  {
   "cell_type": "markdown",
   "id": "d935115d-873f-45b9-a807-d64e237f2a69",
   "metadata": {},
   "source": [
    "### Random Forest"
   ]
  },
  {
   "cell_type": "code",
   "execution_count": 14,
   "id": "24103901-1fb1-4014-8d98-9bca2a1513a7",
   "metadata": {},
   "outputs": [
    {
     "name": "stdout",
     "output_type": "stream",
     "text": [
      "Random Forest Accuracy: 0.856337093563371\n",
      "[[4196  331]\n",
      " [ 535  966]]\n"
     ]
    }
   ],
   "source": [
    "rf = RandomForestClassifier(random_state=42)\n",
    "rf.fit(X_train, y_train)\n",
    "y_pred_rf = rf.predict(X_test)\n",
    "\n",
    "print(\"Random Forest Accuracy:\", accuracy_score(y_test, y_pred_rf))\n",
    "print(confusion_matrix(y_test, y_pred_rf))"
   ]
  },
  {
   "cell_type": "raw",
   "id": "da415a6a-528d-431d-93e0-5d02bc227614",
   "metadata": {},
   "source": [
    "meet the target accuracy (RF)"
   ]
  },
  {
   "cell_type": "markdown",
   "id": "f295f387-b8b7-4cef-ac8d-c600825dfafa",
   "metadata": {},
   "source": [
    "### Gradient Boosting (XGBoost) ###"
   ]
  },
  {
   "cell_type": "code",
   "execution_count": 15,
   "id": "7e11dbf4-2d5c-42d4-91a1-42ecd62ab81f",
   "metadata": {},
   "outputs": [
    {
     "name": "stdout",
     "output_type": "stream",
     "text": [
      "XGBoost Accuracy: 0.8691108161911082\n",
      "[[4196  331]\n",
      " [ 535  966]]\n"
     ]
    }
   ],
   "source": [
    "from xgboost import XGBClassifier\n",
    "\n",
    "xgb = XGBClassifier(\n",
    "    n_estimators=300,\n",
    "    max_depth=6,\n",
    "    learning_rate=0.1,\n",
    "    subsample=0.8,\n",
    "    colsample_bytree=0.8,\n",
    "    random_state=42,\n",
    "    eval_metric=\"logloss\"   # Important for classification\n",
    ")\n",
    "\n",
    "xgb.fit(X_train, y_train)\n",
    "y_pred_xgb = xgb.predict(X_test)\n",
    "\n",
    "print(\"XGBoost Accuracy:\", accuracy_score(y_test, y_pred_xgb))\n",
    "print(confusion_matrix(y_test, y_pred_rf))"
   ]
  },
  {
   "cell_type": "raw",
   "id": "7ef84ab0-1d4b-4ca1-9c93-6714ac870f07",
   "metadata": {},
   "source": [
    "meet the target accuracy"
   ]
  }
 ],
 "metadata": {
  "kernelspec": {
   "display_name": "Python [conda env:base] *",
   "language": "python",
   "name": "conda-base-py"
  },
  "language_info": {
   "codemirror_mode": {
    "name": "ipython",
    "version": 3
   },
   "file_extension": ".py",
   "mimetype": "text/x-python",
   "name": "python",
   "nbconvert_exporter": "python",
   "pygments_lexer": "ipython3",
   "version": "3.13.5"
  }
 },
 "nbformat": 4,
 "nbformat_minor": 5
}
